{
 "cells": [
  {
   "cell_type": "code",
   "execution_count": 4,
   "id": "99a2a976-d3f1-495a-8ebb-2e8da2b46917",
   "metadata": {},
   "outputs": [],
   "source": [
    "import GenderBr_lacav as gbr\n"
   ]
  },
  {
   "cell_type": "code",
   "execution_count": 5,
   "id": "57c1798b-ee77-4da2-96f4-d3161abb6ba4",
   "metadata": {},
   "outputs": [
    {
     "data": {
      "text/plain": [
       "'homem'"
      ]
     },
     "execution_count": 5,
     "metadata": {},
     "output_type": "execute_result"
    }
   ],
   "source": [
    "gbr.get_gender('Fábio')"
   ]
  },
  {
   "cell_type": "code",
   "execution_count": null,
   "id": "92819321-0628-43df-9c35-ded5ba2157ee",
   "metadata": {},
   "outputs": [],
   "source": []
  }
 ],
 "metadata": {
  "kernelspec": {
   "display_name": "Python 3 (ipykernel)",
   "language": "python",
   "name": "python3"
  },
  "language_info": {
   "codemirror_mode": {
    "name": "ipython",
    "version": 3
   },
   "file_extension": ".py",
   "mimetype": "text/x-python",
   "name": "python",
   "nbconvert_exporter": "python",
   "pygments_lexer": "ipython3",
   "version": "3.9.15"
  }
 },
 "nbformat": 4,
 "nbformat_minor": 5
}
